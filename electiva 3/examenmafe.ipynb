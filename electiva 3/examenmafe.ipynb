{
 "cells": [
  {
   "cell_type": "markdown",
   "metadata": {
    "nbgrader": {
     "grade": false,
     "grade_id": "cell-c9bfcc10c56bc604",
     "locked": true,
     "schema_version": 3,
     "solution": false,
     "task": false
    }
   },
   "source": [
    "# Laboratorio 2"
   ]
  },
  {
   "cell_type": "markdown",
   "metadata": {
    "nbgrader": {
     "grade": false,
     "grade_id": "cell-c9bfcc10c56bc605",
     "locked": true,
     "schema_version": 3,
     "solution": false,
     "task": false
    }
   },
   "source": [
    "## Desarrollo de una herramienta analítica usando paquetes especializados para análisis de datos en Python"
   ]
  },
  {
   "cell_type": "markdown",
   "metadata": {
    "nbgrader": {
     "grade": false,
     "grade_id": "cell-c9bfcc10c56bc606",
     "locked": true,
     "schema_version": 3,
     "solution": false,
     "task": false
    }
   },
   "source": [
    "Para el desarrollo de esta actividad puedes utilizar cualquier librería externa. Te recomendamos leer por completo el enunciado del laboratorio antes de comenzar, de forma que tengas claro el propósito global de la actividad y puedas desarrollar tu solución apuntando a él desde el inicio."
   ]
  },
  {
   "cell_type": "markdown",
   "metadata": {
    "nbgrader": {
     "grade": false,
     "grade_id": "cell-c9bfcc10c56bc607",
     "locked": true,
     "schema_version": 3,
     "solution": false,
     "task": false
    }
   },
   "source": [
    "Al desarrollar este laboratorio pondrás a prueba tus habilidades para:\n",
    "\n",
    "1. Identificar y abordar preguntas de negocio y de *analytics*.\n",
    "2. Leer datos desde archivos y almacenarlos utilizando métodos de librerías especializadas.\n",
    "3. Explorar, modificar, limpiar y unir objetos tablas de datos.\n",
    "4. Implementar análisis combinando métricas descriptivas, visualización, filtrado y agrupación.\n",
    "5. Implementar análisis basado en modelos estadísticos o de *machine learning*."
   ]
  },
  {
   "cell_type": "markdown",
   "metadata": {
    "nbgrader": {
     "grade": false,
     "grade_id": "cell-cfa5e4dba79247b3",
     "locked": true,
     "schema_version": 3,
     "solution": false,
     "task": false
    }
   },
   "source": [
    "##  Contexto: desigualdad y factores de éxito en pruebas Saber 11 en Colombia"
   ]
  },
  {
   "cell_type": "markdown",
   "metadata": {
    "nbgrader": {
     "grade": false,
     "grade_id": "cell-cfa5e4dba79247b4",
     "locked": true,
     "schema_version": 3,
     "solution": false,
     "task": false
    }
   },
   "source": [
    "El ICFES es el Instituto Colombiano para el Fomento de la Educación Superior y está adscrito al Ministerio de Educación a nivel nacional. Como parte de sus funciones, el ICFES administra las pruebas Saber 11, las cuales evalúan a todos los estudiantes del país al final de su educación secundaria. El examen contiene preguntas que evalúan una variedad de áreas del conocimiento (ej., matemáticas, física, inglés, etc.) y se lleva a cabo dos veces al año, ajustándose a los diferentes calendarios académicos que siguen las instituciones educativas. Al momento de inscribirse a las pruebas, los estudiantes diligencian un formulario que recoge información sociodemográfica y relacionada con la institución a la que pertenecen. El fin es obtener información con respecto al desempeño de los estudiantes en la prueba y de sus características."
   ]
  },
  {
   "cell_type": "markdown",
   "metadata": {
    "nbgrader": {
     "grade": false,
     "grade_id": "cell-cfa5e4dba79247b6",
     "locked": true,
     "schema_version": 3,
     "solution": false,
     "task": false
    }
   },
   "source": [
    "Al igual que otros países de la región, Colombia tiene grandes retos en términos de desigualdad, particularmente en el contexto de educación primaria y secundaria. Por esta razón, para el Estado colombiano es muy valioso el amplio registro de datos que el ICFES genera alrededor de las pruebas Saber 11, pues con ellos se pueden generar análisis sobre la calidad de la educación en el país y eventualmente dar lugar a recomendaciones sobre políticas públicas. En particular, la problemática a abordar en este caso de estudio es la desigualdad y factores de éxito en las pruebas Saber 11. "
   ]
  },
  {
   "cell_type": "markdown",
   "metadata": {
    "nbgrader": {
     "grade": false,
     "grade_id": "cell-cfa5e4dba79247b7",
     "locked": true,
     "schema_version": 3,
     "solution": false,
     "task": false
    }
   },
   "source": [
    "Los objetivos de este caso de estudio son:\n",
    "\n",
    "* Entender el contenido de los archivos de datos proporcionados sobre las pruebas Saber 11, generar un reporte acerca de sus características principales y seleccionar las partes de dicho contenido que podrían ser relevantes para el análisis.\n",
    "\n",
    "\n",
    "* Identificar características de las variables de interés y relaciones entre ellas, por ejemplo, a través de agrupación, visualizaciones y estadísticas descriptivas.\n",
    "\n",
    "\n",
    "* Proponer un modelo que busque relacionar las variables de interés con el desempeño de los estudiantes y concluir acerca de los posibles hallazgos que se podrían reportar para el *stakeholder*.\n",
    "\n",
    "\n",
    "* Generar una herramienta que permita a un usuario interactuar con alguno de los parámetros del análisis realizado de forma relevante en el contexto del problema."
   ]
  },
  {
   "cell_type": "markdown",
   "metadata": {
    "nbgrader": {
     "grade": false,
     "grade_id": "cell-997648f928b84190",
     "locked": true,
     "schema_version": 3,
     "solution": false,
     "task": false
    }
   },
   "source": [
    "## Fase 1: obtener e inspeccionar archivos"
   ]
  },
  {
   "cell_type": "markdown",
   "metadata": {
    "nbgrader": {
     "grade": false,
     "grade_id": "cell-997648f928b84191",
     "locked": true,
     "schema_version": 3,
     "solution": false,
     "task": false
    }
   },
   "source": [
    "En esta fase te harás una idea general del contenido de los datos y generarás un reporte al respecto (ej., imprimiendo mensajes, presentando tablas de resumen, etc.). Además, seleccionarás un segmento de los datos que consideres útil para realizar tu análisis."
   ]
  },
  {
   "cell_type": "markdown",
   "metadata": {
    "nbgrader": {
     "grade": false,
     "grade_id": "cell-997648f928b84192",
     "locked": true,
     "schema_version": 3,
     "solution": false,
     "task": false
    }
   },
   "source": [
    "Pautas generales:\n",
    "\n",
    "* Utilizar una librería especializada para leer los archivos de datos y agregarlos según sea necesario (ej., utilizando los métodos `append` o `concat` si eliges cargarlos utilizando la librería `pandas`).\n",
    "* Inspeccionar el archivo a partir de sus encabezados, columnas y descripciones de las variables según su tipo (ej., numéricas, categóricas).\n",
    "* Declarar una estructura de datos (ej., una lista) para almacenar un subconjunto de variables que puedan ser relevantes para la problemática de interés."
   ]
  },
  {
   "cell_type": "markdown",
   "metadata": {
    "nbgrader": {
     "grade": false,
     "grade_id": "cell-997648f928b84193",
     "locked": true,
     "schema_version": 3,
     "solution": false,
     "task": false
    }
   },
   "source": [
    "Preguntas guía:\n",
    "\n",
    "* ¿Qué dimensiones tienen los datos?\n",
    "* ¿Con cuántos años y periodos de evaluación se cuenta?\n",
    "* ¿Cuáles variables pueden ser de interés para la problemática planteada?\n",
    "* ¿Qué porcentaje de datos faltantes o no válidos hay en las columnas de interés? ¿Qué planteas para manejarlos?"
   ]
  },
  {
   "cell_type": "code",
   "execution_count": null,
   "metadata": {
    "nbgrader": {
     "grade": true,
     "grade_id": "cell-83d3b414ead0cca9",
     "locked": false,
     "points": 20,
     "schema_version": 3,
     "solution": true,
     "task": false
    }
   },
   "outputs": [
    {
     "name": "stdout",
     "output_type": "stream",
     "text": [
      "Separador detectado: ';'\n",
      "Columnas comunes: Index(['periodo', 'estu_consecutivo', 'estu_estudiante', 'estu_tipodocumento',\n",
      "       'cole_area_ubicacion', 'cole_bilingue', 'cole_calendario',\n",
      "       'cole_caracter', 'cole_cod_dane_establecimiento', 'cole_cod_dane_sede',\n",
      "       'cole_cod_depto_ubicacion', 'cole_cod_mcpio_ubicacion',\n",
      "       'cole_codigo_icfes', 'cole_depto_ubicacion', 'cole_genero',\n",
      "       'cole_jornada', 'cole_mcpio_ubicacion', 'cole_naturaleza',\n",
      "       'cole_nombre_establecimiento', 'cole_nombre_sede',\n",
      "       'cole_sede_principal', 'desemp_c_naturales', 'desemp_ingles',\n",
      "       'desemp_lectura_critica', 'desemp_matematicas',\n",
      "       'desemp_sociales_ciudadanas', 'estu_agregado',\n",
      "       'estu_cod_depto_presentacion', 'estu_cod_mcpio_presentacion',\n",
      "       'estu_cod_reside_depto', 'estu_cod_reside_mcpio',\n",
      "       'estu_dedicacioninternet', 'estu_dedicacionlecturadiaria',\n",
      "       'estu_depto_presentacion', 'estu_depto_reside', 'estu_discapacidad',\n",
      "       'estu_etnia', 'estu_fechanacimiento', 'estu_genero', 'estu_grado',\n",
      "       'estu_horassemanatrabaja', 'estu_inse_individual',\n",
      "       'estu_mcpio_presentacion', 'estu_mcpio_reside', 'estu_nacionalidad',\n",
      "       'estu_nse_establecimiento', 'estu_nse_individual', 'estu_pais_reside',\n",
      "       'estu_privado_libertad', 'estu_repite', 'estu_tieneetnia',\n",
      "       'estu_tiporemuneracion', 'fami_comecarnepescadohuevo',\n",
      "       'fami_comecerealfrutoslegumbre', 'fami_comelechederivados',\n",
      "       'fami_cuartoshogar', 'fami_educacionmadre', 'fami_educacionpadre',\n",
      "       'fami_estratovivienda', 'fami_numlibros', 'fami_personashogar',\n",
      "       'fami_situacioneconomica', 'fami_tieneautomovil',\n",
      "       'fami_tienecomputador', 'fami_tieneconsolavideojuegos',\n",
      "       'fami_tienehornomicroogas', 'fami_tieneinternet', 'fami_tienelavadora',\n",
      "       'fami_tienemotocicleta', 'fami_tieneserviciotv',\n",
      "       'fami_trabajolabormadre', 'fami_trabajolaborpadre',\n",
      "       'percentil_c_naturales', 'percentil_global', 'percentil_ingles',\n",
      "       'percentil_lectura_critica', 'percentil_matematicas',\n",
      "       'percentil_sociales_ciudadanas', 'punt_c_naturales', 'punt_global',\n",
      "       'punt_ingles', 'punt_lectura_critica', 'punt_matematicas',\n",
      "       'punt_sociales_ciudadanas'],\n",
      "      dtype='object')\n"
     ]
    }
   ],
   "source": [
    "import pandas as pd\n",
    "import csv\n",
    "\n",
    "\n",
    "with open(\"Examen_Saber_11_20222 (1).txt\", \"r\", encoding=\"utf-8\") as f:\n",
    "    dialect = csv.Sniffer().sniff(f.readline())\n",
    "    separador = dialect.delimiter\n",
    "\n",
    "print(f\"Separador detectado: {repr(separador)}\")\n",
    "\n",
    "\n",
    "calendario_a = pd.read_csv(\"Examen_Saber_11_20221.csv\", sep=\";\", low_memory=False)\n",
    "calendario_b = pd.read_csv(\"Examen_Saber_11_20222 (1).txt\", sep=separador, low_memory=False)\n",
    "\n",
    "\n",
    "columnas_comunes = calendario_a.columns.intersection(calendario_b.columns)\n",
    "\n",
    "print(\"Columnas comunes:\", columnas_comunes)\n"
   ]
  },
  {
   "cell_type": "markdown",
   "metadata": {
    "nbgrader": {
     "grade": false,
     "grade_id": "cell-015824b401dc270e",
     "locked": true,
     "schema_version": 3,
     "solution": false,
     "task": false
    }
   },
   "source": [
    "## Fase 2: identificar características y relaciones en las variables"
   ]
  },
  {
   "cell_type": "code",
   "execution_count": null,
   "metadata": {},
   "outputs": [],
   "source": []
  },
  {
   "cell_type": "code",
   "execution_count": 3,
   "metadata": {},
   "outputs": [
    {
     "name": "stdout",
     "output_type": "stream",
     "text": [
      "Collecting matplotlib\n",
      "  Downloading matplotlib-3.10.6-cp310-cp310-win_amd64.whl.metadata (11 kB)\n",
      "Collecting seaborn\n",
      "  Downloading seaborn-0.13.2-py3-none-any.whl.metadata (5.4 kB)\n",
      "Collecting scikit-learn\n",
      "  Downloading scikit_learn-1.7.2-cp310-cp310-win_amd64.whl.metadata (11 kB)\n",
      "Requirement already satisfied: pandas in c:\\users\\fernanda\\appdata\\local\\programs\\python\\python310\\lib\\site-packages (2.3.2)\n",
      "Requirement already satisfied: numpy in c:\\users\\fernanda\\appdata\\local\\programs\\python\\python310\\lib\\site-packages (2.2.6)\n",
      "Collecting contourpy>=1.0.1 (from matplotlib)\n",
      "  Downloading contourpy-1.3.2-cp310-cp310-win_amd64.whl.metadata (5.5 kB)\n",
      "Collecting cycler>=0.10 (from matplotlib)\n",
      "  Downloading cycler-0.12.1-py3-none-any.whl.metadata (3.8 kB)\n",
      "Collecting fonttools>=4.22.0 (from matplotlib)\n",
      "  Downloading fonttools-4.59.2-cp310-cp310-win_amd64.whl.metadata (111 kB)\n",
      "Collecting kiwisolver>=1.3.1 (from matplotlib)\n",
      "  Downloading kiwisolver-1.4.9-cp310-cp310-win_amd64.whl.metadata (6.4 kB)\n",
      "Requirement already satisfied: packaging>=20.0 in c:\\users\\fernanda\\appdata\\roaming\\python\\python310\\site-packages (from matplotlib) (25.0)\n",
      "Collecting pillow>=8 (from matplotlib)\n",
      "  Downloading pillow-11.3.0-cp310-cp310-win_amd64.whl.metadata (9.2 kB)\n",
      "Collecting pyparsing>=2.3.1 (from matplotlib)\n",
      "  Downloading pyparsing-3.2.4-py3-none-any.whl.metadata (5.0 kB)\n",
      "Requirement already satisfied: python-dateutil>=2.7 in c:\\users\\fernanda\\appdata\\roaming\\python\\python310\\site-packages (from matplotlib) (2.9.0.post0)\n",
      "Collecting scipy>=1.8.0 (from scikit-learn)\n",
      "  Downloading scipy-1.15.3-cp310-cp310-win_amd64.whl.metadata (60 kB)\n",
      "Collecting joblib>=1.2.0 (from scikit-learn)\n",
      "  Downloading joblib-1.5.2-py3-none-any.whl.metadata (5.6 kB)\n",
      "Collecting threadpoolctl>=3.1.0 (from scikit-learn)\n",
      "  Downloading threadpoolctl-3.6.0-py3-none-any.whl.metadata (13 kB)\n",
      "Requirement already satisfied: pytz>=2020.1 in c:\\users\\fernanda\\appdata\\local\\programs\\python\\python310\\lib\\site-packages (from pandas) (2025.2)\n",
      "Requirement already satisfied: tzdata>=2022.7 in c:\\users\\fernanda\\appdata\\local\\programs\\python\\python310\\lib\\site-packages (from pandas) (2025.2)\n",
      "Requirement already satisfied: six>=1.5 in c:\\users\\fernanda\\appdata\\roaming\\python\\python310\\site-packages (from python-dateutil>=2.7->matplotlib) (1.17.0)\n",
      "Downloading matplotlib-3.10.6-cp310-cp310-win_amd64.whl (8.1 MB)\n",
      "   ---------------------------------------- 0.0/8.1 MB ? eta -:--:--\n",
      "   --- ------------------------------------ 0.8/8.1 MB 4.8 MB/s eta 0:00:02\n",
      "   ------- -------------------------------- 1.6/8.1 MB 4.7 MB/s eta 0:00:02\n",
      "   -------------- ------------------------- 2.9/8.1 MB 4.8 MB/s eta 0:00:02\n",
      "   ------------------- -------------------- 3.9/8.1 MB 4.9 MB/s eta 0:00:01\n",
      "   ------------------------ --------------- 5.0/8.1 MB 5.1 MB/s eta 0:00:01\n",
      "   -------------------------------- ------- 6.6/8.1 MB 5.4 MB/s eta 0:00:01\n",
      "   -------------------------------------- - 7.9/8.1 MB 5.5 MB/s eta 0:00:01\n",
      "   ---------------------------------------- 8.1/8.1 MB 5.4 MB/s  0:00:01\n",
      "Downloading seaborn-0.13.2-py3-none-any.whl (294 kB)\n",
      "Downloading scikit_learn-1.7.2-cp310-cp310-win_amd64.whl (8.9 MB)\n",
      "   ---------------------------------------- 0.0/8.9 MB ? eta -:--:--\n",
      "   ---- ----------------------------------- 1.0/8.9 MB 5.0 MB/s eta 0:00:02\n",
      "   ---------- ----------------------------- 2.4/8.9 MB 6.1 MB/s eta 0:00:02\n",
      "   ----------------- ---------------------- 3.9/8.9 MB 6.3 MB/s eta 0:00:01\n",
      "   ------------------------ --------------- 5.5/8.9 MB 6.7 MB/s eta 0:00:01\n",
      "   ------------------------------- -------- 7.1/8.9 MB 6.9 MB/s eta 0:00:01\n",
      "   -------------------------------------- - 8.7/8.9 MB 7.1 MB/s eta 0:00:01\n",
      "   ---------------------------------------- 8.9/8.9 MB 7.0 MB/s  0:00:01\n",
      "Downloading contourpy-1.3.2-cp310-cp310-win_amd64.whl (221 kB)\n",
      "Downloading cycler-0.12.1-py3-none-any.whl (8.3 kB)\n",
      "Downloading fonttools-4.59.2-cp310-cp310-win_amd64.whl (2.3 MB)\n",
      "   ---------------------------------------- 0.0/2.3 MB ? eta -:--:--\n",
      "   --------------------------- ------------ 1.6/2.3 MB 8.4 MB/s eta 0:00:01\n",
      "   ---------------------------------------- 2.3/2.3 MB 8.0 MB/s  0:00:00\n",
      "Downloading joblib-1.5.2-py3-none-any.whl (308 kB)\n",
      "Downloading kiwisolver-1.4.9-cp310-cp310-win_amd64.whl (73 kB)\n",
      "Downloading pillow-11.3.0-cp310-cp310-win_amd64.whl (7.0 MB)\n",
      "   ---------------------------------------- 0.0/7.0 MB ? eta -:--:--\n",
      "   --------- ------------------------------ 1.6/7.0 MB 9.3 MB/s eta 0:00:01\n",
      "   ------------------- -------------------- 3.4/7.0 MB 8.8 MB/s eta 0:00:01\n",
      "   ------------------------------- -------- 5.5/7.0 MB 9.1 MB/s eta 0:00:01\n",
      "   ---------------------------------------- 7.0/7.0 MB 8.8 MB/s  0:00:00\n",
      "Downloading pyparsing-3.2.4-py3-none-any.whl (113 kB)\n",
      "Downloading scipy-1.15.3-cp310-cp310-win_amd64.whl (41.3 MB)\n",
      "   ---------------------------------------- 0.0/41.3 MB ? eta -:--:--\n",
      "   - -------------------------------------- 1.8/41.3 MB 9.1 MB/s eta 0:00:05\n",
      "   --- ------------------------------------ 3.9/41.3 MB 9.4 MB/s eta 0:00:04\n",
      "   ----- ---------------------------------- 6.0/41.3 MB 9.7 MB/s eta 0:00:04\n",
      "   ------- -------------------------------- 8.1/41.3 MB 10.1 MB/s eta 0:00:04\n",
      "   ---------- ----------------------------- 10.5/41.3 MB 10.2 MB/s eta 0:00:04\n",
      "   ------------ --------------------------- 12.8/41.3 MB 10.3 MB/s eta 0:00:03\n",
      "   -------------- ------------------------- 14.7/41.3 MB 10.1 MB/s eta 0:00:03\n",
      "   ---------------- ----------------------- 17.0/41.3 MB 10.3 MB/s eta 0:00:03\n",
      "   ------------------ --------------------- 19.1/41.3 MB 10.2 MB/s eta 0:00:03\n",
      "   --------------------- ------------------ 21.8/41.3 MB 10.6 MB/s eta 0:00:02\n",
      "   ----------------------- ---------------- 24.4/41.3 MB 10.6 MB/s eta 0:00:02\n",
      "   -------------------------- ------------- 27.0/41.3 MB 10.8 MB/s eta 0:00:02\n",
      "   ---------------------------- ----------- 29.6/41.3 MB 11.0 MB/s eta 0:00:02\n",
      "   ------------------------------ --------- 31.5/41.3 MB 10.9 MB/s eta 0:00:01\n",
      "   ------------------------------ --------- 31.5/41.3 MB 10.9 MB/s eta 0:00:01\n",
      "   ------------------------------ --------- 31.5/41.3 MB 10.9 MB/s eta 0:00:01\n",
      "   ------------------------------ --------- 31.5/41.3 MB 10.9 MB/s eta 0:00:01\n",
      "   ------------------------------ --------- 31.5/41.3 MB 10.9 MB/s eta 0:00:01\n",
      "   ------------------------------ --------- 31.5/41.3 MB 10.9 MB/s eta 0:00:01\n",
      "   ------------------------------ --------- 31.5/41.3 MB 10.9 MB/s eta 0:00:01\n",
      "   ------------------------------ --------- 31.5/41.3 MB 10.9 MB/s eta 0:00:01\n",
      "   ------------------------------ --------- 31.5/41.3 MB 10.9 MB/s eta 0:00:01\n",
      "   ------------------------------ --------- 31.5/41.3 MB 10.9 MB/s eta 0:00:01\n",
      "   ------------------------------ --------- 31.7/41.3 MB 6.4 MB/s eta 0:00:02\n",
      "   --------------------------------- ------ 34.1/41.3 MB 6.5 MB/s eta 0:00:02\n",
      "   ----------------------------------- ---- 36.4/41.3 MB 6.7 MB/s eta 0:00:01\n",
      "   -------------------------------------- - 39.6/41.3 MB 7.0 MB/s eta 0:00:01\n",
      "   ---------------------------------------  41.2/41.3 MB 7.1 MB/s eta 0:00:01\n",
      "   ---------------------------------------- 41.3/41.3 MB 6.9 MB/s  0:00:05\n",
      "Downloading threadpoolctl-3.6.0-py3-none-any.whl (18 kB)\n",
      "Installing collected packages: threadpoolctl, scipy, pyparsing, pillow, kiwisolver, joblib, fonttools, cycler, contourpy, scikit-learn, matplotlib, seaborn\n",
      "\n",
      "   --- ------------------------------------  1/12 [scipy]\n",
      "   --- ------------------------------------  1/12 [scipy]\n",
      "   --- ------------------------------------  1/12 [scipy]\n",
      "   --- ------------------------------------  1/12 [scipy]\n",
      "   --- ------------------------------------  1/12 [scipy]\n",
      "   --- ------------------------------------  1/12 [scipy]\n",
      "   --- ------------------------------------  1/12 [scipy]\n",
      "   --- ------------------------------------  1/12 [scipy]\n",
      "   --- ------------------------------------  1/12 [scipy]\n",
      "   --- ------------------------------------  1/12 [scipy]\n",
      "   --- ------------------------------------  1/12 [scipy]\n",
      "   --- ------------------------------------  1/12 [scipy]\n",
      "   --- ------------------------------------  1/12 [scipy]\n",
      "   --- ------------------------------------  1/12 [scipy]\n",
      "   --- ------------------------------------  1/12 [scipy]\n",
      "   --- ------------------------------------  1/12 [scipy]\n",
      "   --- ------------------------------------  1/12 [scipy]\n",
      "   --- ------------------------------------  1/12 [scipy]\n",
      "   --- ------------------------------------  1/12 [scipy]\n",
      "   --- ------------------------------------  1/12 [scipy]\n",
      "   --- ------------------------------------  1/12 [scipy]\n",
      "   --- ------------------------------------  1/12 [scipy]\n",
      "   --- ------------------------------------  1/12 [scipy]\n",
      "   --- ------------------------------------  1/12 [scipy]\n",
      "   --- ------------------------------------  1/12 [scipy]\n",
      "   --- ------------------------------------  1/12 [scipy]\n",
      "   --- ------------------------------------  1/12 [scipy]\n",
      "   --- ------------------------------------  1/12 [scipy]\n",
      "   --- ------------------------------------  1/12 [scipy]\n",
      "   --- ------------------------------------  1/12 [scipy]\n",
      "   --- ------------------------------------  1/12 [scipy]\n",
      "   --- ------------------------------------  1/12 [scipy]\n",
      "   --- ------------------------------------  1/12 [scipy]\n",
      "   --- ------------------------------------  1/12 [scipy]\n",
      "   --- ------------------------------------  1/12 [scipy]\n",
      "   --- ------------------------------------  1/12 [scipy]\n",
      "   --- ------------------------------------  1/12 [scipy]\n",
      "   --- ------------------------------------  1/12 [scipy]\n",
      "   --- ------------------------------------  1/12 [scipy]\n",
      "   --- ------------------------------------  1/12 [scipy]\n",
      "   --- ------------------------------------  1/12 [scipy]\n",
      "   --- ------------------------------------  1/12 [scipy]\n",
      "   --- ------------------------------------  1/12 [scipy]\n",
      "   --- ------------------------------------  1/12 [scipy]\n",
      "   --- ------------------------------------  1/12 [scipy]\n",
      "   --- ------------------------------------  1/12 [scipy]\n",
      "   --- ------------------------------------  1/12 [scipy]\n",
      "   --- ------------------------------------  1/12 [scipy]\n",
      "   --- ------------------------------------  1/12 [scipy]\n",
      "   --- ------------------------------------  1/12 [scipy]\n",
      "   --- ------------------------------------  1/12 [scipy]\n",
      "   --- ------------------------------------  1/12 [scipy]\n",
      "   --- ------------------------------------  1/12 [scipy]\n",
      "   --- ------------------------------------  1/12 [scipy]\n",
      "   --- ------------------------------------  1/12 [scipy]\n",
      "   --- ------------------------------------  1/12 [scipy]\n",
      "   --- ------------------------------------  1/12 [scipy]\n",
      "   --- ------------------------------------  1/12 [scipy]\n",
      "   --- ------------------------------------  1/12 [scipy]\n",
      "   --- ------------------------------------  1/12 [scipy]\n",
      "   --- ------------------------------------  1/12 [scipy]\n",
      "   --- ------------------------------------  1/12 [scipy]\n",
      "   --- ------------------------------------  1/12 [scipy]\n",
      "   --- ------------------------------------  1/12 [scipy]\n",
      "   --- ------------------------------------  1/12 [scipy]\n",
      "   --- ------------------------------------  1/12 [scipy]\n",
      "   --- ------------------------------------  1/12 [scipy]\n",
      "   --- ------------------------------------  1/12 [scipy]\n",
      "   --- ------------------------------------  1/12 [scipy]\n",
      "   --- ------------------------------------  1/12 [scipy]\n",
      "   --- ------------------------------------  1/12 [scipy]\n",
      "   --- ------------------------------------  1/12 [scipy]\n",
      "   --- ------------------------------------  1/12 [scipy]\n",
      "   --- ------------------------------------  1/12 [scipy]\n",
      "   --- ------------------------------------  1/12 [scipy]\n",
      "   --- ------------------------------------  1/12 [scipy]\n",
      "   --- ------------------------------------  1/12 [scipy]\n",
      "   --- ------------------------------------  1/12 [scipy]\n",
      "   --- ------------------------------------  1/12 [scipy]\n",
      "   --- ------------------------------------  1/12 [scipy]\n",
      "   --- ------------------------------------  1/12 [scipy]\n",
      "   --- ------------------------------------  1/12 [scipy]\n",
      "   --- ------------------------------------  1/12 [scipy]\n",
      "   --- ------------------------------------  1/12 [scipy]\n",
      "   --- ------------------------------------  1/12 [scipy]\n",
      "   --- ------------------------------------  1/12 [scipy]\n",
      "   --- ------------------------------------  1/12 [scipy]\n",
      "   --- ------------------------------------  1/12 [scipy]\n",
      "   --- ------------------------------------  1/12 [scipy]\n",
      "   --- ------------------------------------  1/12 [scipy]\n",
      "   --- ------------------------------------  1/12 [scipy]\n",
      "   --- ------------------------------------  1/12 [scipy]\n",
      "   --- ------------------------------------  1/12 [scipy]\n",
      "   --- ------------------------------------  1/12 [scipy]\n",
      "   --- ------------------------------------  1/12 [scipy]\n",
      "   --- ------------------------------------  1/12 [scipy]\n",
      "   --- ------------------------------------  1/12 [scipy]\n",
      "   --- ------------------------------------  1/12 [scipy]\n",
      "   --- ------------------------------------  1/12 [scipy]\n",
      "   --- ------------------------------------  1/12 [scipy]\n",
      "   --- ------------------------------------  1/12 [scipy]\n",
      "   --- ------------------------------------  1/12 [scipy]\n",
      "   --- ------------------------------------  1/12 [scipy]\n",
      "   --- ------------------------------------  1/12 [scipy]\n",
      "   --- ------------------------------------  1/12 [scipy]\n",
      "   --- ------------------------------------  1/12 [scipy]\n",
      "   --- ------------------------------------  1/12 [scipy]\n",
      "   --- ------------------------------------  1/12 [scipy]\n",
      "   ------ ---------------------------------  2/12 [pyparsing]\n",
      "   ---------- -----------------------------  3/12 [pillow]\n",
      "   ---------- -----------------------------  3/12 [pillow]\n",
      "   ---------- -----------------------------  3/12 [pillow]\n",
      "   ---------- -----------------------------  3/12 [pillow]\n",
      "   ---------- -----------------------------  3/12 [pillow]\n",
      "   ---------- -----------------------------  3/12 [pillow]\n",
      "   ---------- -----------------------------  3/12 [pillow]\n",
      "   ---------- -----------------------------  3/12 [pillow]\n",
      "   ---------- -----------------------------  3/12 [pillow]\n",
      "   ---------- -----------------------------  3/12 [pillow]\n",
      "   ---------- -----------------------------  3/12 [pillow]\n",
      "   ------------- --------------------------  4/12 [kiwisolver]\n",
      "   ---------------- -----------------------  5/12 [joblib]\n",
      "   ---------------- -----------------------  5/12 [joblib]\n",
      "   ---------------- -----------------------  5/12 [joblib]\n",
      "   ---------------- -----------------------  5/12 [joblib]\n",
      "   ---------------- -----------------------  5/12 [joblib]\n",
      "   ---------------- -----------------------  5/12 [joblib]\n",
      "   ---------------- -----------------------  5/12 [joblib]\n",
      "   ---------------- -----------------------  5/12 [joblib]\n",
      "   -------------------- -------------------  6/12 [fonttools]\n",
      "   -------------------- -------------------  6/12 [fonttools]\n",
      "   -------------------- -------------------  6/12 [fonttools]\n",
      "   -------------------- -------------------  6/12 [fonttools]\n",
      "   -------------------- -------------------  6/12 [fonttools]\n",
      "   -------------------- -------------------  6/12 [fonttools]\n",
      "   -------------------- -------------------  6/12 [fonttools]\n",
      "   -------------------- -------------------  6/12 [fonttools]\n",
      "   -------------------- -------------------  6/12 [fonttools]\n",
      "   -------------------- -------------------  6/12 [fonttools]\n",
      "   -------------------- -------------------  6/12 [fonttools]\n",
      "   -------------------- -------------------  6/12 [fonttools]\n",
      "   -------------------- -------------------  6/12 [fonttools]\n",
      "   -------------------- -------------------  6/12 [fonttools]\n",
      "   -------------------- -------------------  6/12 [fonttools]\n",
      "   -------------------- -------------------  6/12 [fonttools]\n",
      "   -------------------- -------------------  6/12 [fonttools]\n",
      "   -------------------- -------------------  6/12 [fonttools]\n",
      "   -------------------- -------------------  6/12 [fonttools]\n",
      "   -------------------- -------------------  6/12 [fonttools]\n",
      "   -------------------- -------------------  6/12 [fonttools]\n",
      "   -------------------- -------------------  6/12 [fonttools]\n",
      "   -------------------- -------------------  6/12 [fonttools]\n",
      "   -------------------- -------------------  6/12 [fonttools]\n",
      "   -------------------- -------------------  6/12 [fonttools]\n",
      "   -------------------- -------------------  6/12 [fonttools]\n",
      "   -------------------- -------------------  6/12 [fonttools]\n",
      "   -------------------- -------------------  6/12 [fonttools]\n",
      "   -------------------- -------------------  6/12 [fonttools]\n",
      "   -------------------- -------------------  6/12 [fonttools]\n",
      "   -------------------- -------------------  6/12 [fonttools]\n",
      "   -------------------- -------------------  6/12 [fonttools]\n",
      "   -------------------- -------------------  6/12 [fonttools]\n",
      "   -------------------- -------------------  6/12 [fonttools]\n",
      "   -------------------- -------------------  6/12 [fonttools]\n",
      "   -------------------- -------------------  6/12 [fonttools]\n",
      "   -------------------------- -------------  8/12 [contourpy]\n",
      "   -------------------------- -------------  8/12 [contourpy]\n",
      "   ------------------------------ ---------  9/12 [scikit-learn]\n",
      "   ------------------------------ ---------  9/12 [scikit-learn]\n",
      "   ------------------------------ ---------  9/12 [scikit-learn]\n",
      "   ------------------------------ ---------  9/12 [scikit-learn]\n",
      "   ------------------------------ ---------  9/12 [scikit-learn]\n",
      "   ------------------------------ ---------  9/12 [scikit-learn]\n",
      "   ------------------------------ ---------  9/12 [scikit-learn]\n",
      "   ------------------------------ ---------  9/12 [scikit-learn]\n",
      "   ------------------------------ ---------  9/12 [scikit-learn]\n",
      "   ------------------------------ ---------  9/12 [scikit-learn]\n",
      "   ------------------------------ ---------  9/12 [scikit-learn]\n",
      "   ------------------------------ ---------  9/12 [scikit-learn]\n",
      "   ------------------------------ ---------  9/12 [scikit-learn]\n",
      "   ------------------------------ ---------  9/12 [scikit-learn]\n",
      "   ------------------------------ ---------  9/12 [scikit-learn]\n",
      "   ------------------------------ ---------  9/12 [scikit-learn]\n",
      "   ------------------------------ ---------  9/12 [scikit-learn]\n",
      "   ------------------------------ ---------  9/12 [scikit-learn]\n",
      "   ------------------------------ ---------  9/12 [scikit-learn]\n",
      "   ------------------------------ ---------  9/12 [scikit-learn]\n",
      "   ------------------------------ ---------  9/12 [scikit-learn]\n",
      "   ------------------------------ ---------  9/12 [scikit-learn]\n",
      "   ------------------------------ ---------  9/12 [scikit-learn]\n",
      "   ------------------------------ ---------  9/12 [scikit-learn]\n",
      "   ------------------------------ ---------  9/12 [scikit-learn]\n",
      "   ------------------------------ ---------  9/12 [scikit-learn]\n",
      "   ------------------------------ ---------  9/12 [scikit-learn]\n",
      "   ------------------------------ ---------  9/12 [scikit-learn]\n",
      "   ------------------------------ ---------  9/12 [scikit-learn]\n",
      "   ------------------------------ ---------  9/12 [scikit-learn]\n",
      "   ------------------------------ ---------  9/12 [scikit-learn]\n",
      "   ------------------------------ ---------  9/12 [scikit-learn]\n",
      "   ------------------------------ ---------  9/12 [scikit-learn]\n",
      "   ------------------------------ ---------  9/12 [scikit-learn]\n",
      "   ------------------------------ ---------  9/12 [scikit-learn]\n",
      "   ------------------------------ ---------  9/12 [scikit-learn]\n",
      "   ------------------------------ ---------  9/12 [scikit-learn]\n",
      "   ------------------------------ ---------  9/12 [scikit-learn]\n",
      "   ------------------------------ ---------  9/12 [scikit-learn]\n",
      "   ------------------------------ ---------  9/12 [scikit-learn]\n",
      "   ------------------------------ ---------  9/12 [scikit-learn]\n",
      "   ------------------------------ ---------  9/12 [scikit-learn]\n",
      "   ------------------------------ ---------  9/12 [scikit-learn]\n",
      "   ------------------------------ ---------  9/12 [scikit-learn]\n",
      "   ------------------------------ ---------  9/12 [scikit-learn]\n",
      "   ------------------------------ ---------  9/12 [scikit-learn]\n",
      "   ------------------------------ ---------  9/12 [scikit-learn]\n",
      "   ------------------------------ ---------  9/12 [scikit-learn]\n",
      "   ------------------------------ ---------  9/12 [scikit-learn]\n",
      "   ------------------------------ ---------  9/12 [scikit-learn]\n",
      "   ------------------------------ ---------  9/12 [scikit-learn]\n",
      "   ------------------------------ ---------  9/12 [scikit-learn]\n",
      "   ------------------------------ ---------  9/12 [scikit-learn]\n",
      "   ------------------------------ ---------  9/12 [scikit-learn]\n",
      "   ------------------------------ ---------  9/12 [scikit-learn]\n",
      "   ------------------------------ ---------  9/12 [scikit-learn]\n",
      "   ------------------------------ ---------  9/12 [scikit-learn]\n",
      "   ------------------------------ ---------  9/12 [scikit-learn]\n",
      "   ------------------------------ ---------  9/12 [scikit-learn]\n",
      "   ------------------------------ ---------  9/12 [scikit-learn]\n",
      "   ------------------------------ ---------  9/12 [scikit-learn]\n",
      "   ------------------------------ ---------  9/12 [scikit-learn]\n",
      "   ------------------------------ ---------  9/12 [scikit-learn]\n",
      "   ------------------------------ ---------  9/12 [scikit-learn]\n",
      "   ------------------------------ ---------  9/12 [scikit-learn]\n",
      "   ------------------------------ ---------  9/12 [scikit-learn]\n",
      "   ------------------------------ ---------  9/12 [scikit-learn]\n",
      "   ------------------------------ ---------  9/12 [scikit-learn]\n",
      "   ------------------------------ ---------  9/12 [scikit-learn]\n",
      "   --------------------------------- ------ 10/12 [matplotlib]\n",
      "   --------------------------------- ------ 10/12 [matplotlib]\n",
      "   --------------------------------- ------ 10/12 [matplotlib]\n",
      "   --------------------------------- ------ 10/12 [matplotlib]\n",
      "   --------------------------------- ------ 10/12 [matplotlib]\n",
      "   --------------------------------- ------ 10/12 [matplotlib]\n",
      "   --------------------------------- ------ 10/12 [matplotlib]\n",
      "   --------------------------------- ------ 10/12 [matplotlib]\n",
      "   --------------------------------- ------ 10/12 [matplotlib]\n",
      "   --------------------------------- ------ 10/12 [matplotlib]\n",
      "   --------------------------------- ------ 10/12 [matplotlib]\n",
      "   --------------------------------- ------ 10/12 [matplotlib]\n",
      "   --------------------------------- ------ 10/12 [matplotlib]\n",
      "   --------------------------------- ------ 10/12 [matplotlib]\n",
      "   --------------------------------- ------ 10/12 [matplotlib]\n",
      "   --------------------------------- ------ 10/12 [matplotlib]\n",
      "   --------------------------------- ------ 10/12 [matplotlib]\n",
      "   --------------------------------- ------ 10/12 [matplotlib]\n",
      "   --------------------------------- ------ 10/12 [matplotlib]\n",
      "   --------------------------------- ------ 10/12 [matplotlib]\n",
      "   --------------------------------- ------ 10/12 [matplotlib]\n",
      "   --------------------------------- ------ 10/12 [matplotlib]\n",
      "   --------------------------------- ------ 10/12 [matplotlib]\n",
      "   --------------------------------- ------ 10/12 [matplotlib]\n",
      "   --------------------------------- ------ 10/12 [matplotlib]\n",
      "   --------------------------------- ------ 10/12 [matplotlib]\n",
      "   --------------------------------- ------ 10/12 [matplotlib]\n",
      "   --------------------------------- ------ 10/12 [matplotlib]\n",
      "   --------------------------------- ------ 10/12 [matplotlib]\n",
      "   --------------------------------- ------ 10/12 [matplotlib]\n",
      "   --------------------------------- ------ 10/12 [matplotlib]\n",
      "   --------------------------------- ------ 10/12 [matplotlib]\n",
      "   --------------------------------- ------ 10/12 [matplotlib]\n",
      "   --------------------------------- ------ 10/12 [matplotlib]\n",
      "   --------------------------------- ------ 10/12 [matplotlib]\n",
      "   --------------------------------- ------ 10/12 [matplotlib]\n",
      "   --------------------------------- ------ 10/12 [matplotlib]\n",
      "   --------------------------------- ------ 10/12 [matplotlib]\n",
      "   --------------------------------- ------ 10/12 [matplotlib]\n",
      "   ------------------------------------ --- 11/12 [seaborn]\n",
      "   ------------------------------------ --- 11/12 [seaborn]\n",
      "   ------------------------------------ --- 11/12 [seaborn]\n",
      "   ------------------------------------ --- 11/12 [seaborn]\n",
      "   ------------------------------------ --- 11/12 [seaborn]\n",
      "   ------------------------------------ --- 11/12 [seaborn]\n",
      "   ---------------------------------------- 12/12 [seaborn]\n",
      "\n",
      "Successfully installed contourpy-1.3.2 cycler-0.12.1 fonttools-4.59.2 joblib-1.5.2 kiwisolver-1.4.9 matplotlib-3.10.6 pillow-11.3.0 pyparsing-3.2.4 scikit-learn-1.7.2 scipy-1.15.3 seaborn-0.13.2 threadpoolctl-3.6.0\n",
      "Note: you may need to restart the kernel to use updated packages.\n"
     ]
    },
    {
     "name": "stderr",
     "output_type": "stream",
     "text": [
      "  WARNING: The scripts fonttools.exe, pyftmerge.exe, pyftsubset.exe and ttx.exe are installed in 'c:\\Users\\Fernanda\\AppData\\Local\\Programs\\Python\\Python310\\Scripts' which is not on PATH.\n",
      "  Consider adding this directory to PATH or, if you prefer to suppress this warning, use --no-warn-script-location.\n"
     ]
    }
   ],
   "source": [
    "pip install matplotlib seaborn scikit-learn pandas numpy\n"
   ]
  },
  {
   "cell_type": "markdown",
   "metadata": {
    "nbgrader": {
     "grade": false,
     "grade_id": "cell-015824b401dc270e1",
     "locked": true,
     "schema_version": 3,
     "solution": false,
     "task": false
    }
   },
   "source": [
    "En esta fase realizarás análisis descriptivo para identificar posibles patrones o relaciones entre las variables de interés para la problemática planteada. Además, expondrás estadísticas descriptivas y visualizaciones para concluir al respecto de los patrones y las relaciones identificadas. Finalmente, elegirás el segmento de los datos sobre el cual profundizarás con tu análisis (este puede ser, o no, igual al seleccionado anteriormente)."
   ]
  },
  {
   "cell_type": "markdown",
   "metadata": {
    "nbgrader": {
     "grade": false,
     "grade_id": "cell-015824b401dc270e2",
     "locked": true,
     "schema_version": 3,
     "solution": false,
     "task": false
    }
   },
   "source": [
    "Pautas generales:\n",
    "\n",
    "* Calcular estadísticas descriptivas básicas (por lo menos, media/mediana y varianza/desviación) para cada variable sociodemográfica relevante en el contexto del problema.\n",
    "* Utilizar librerías especializadas (ej., `matplotlib`, `seaborn`, etc.) para inspeccionar visualmente variables de interés. Los métodos `distplot`, `pairplot`, `boxplot`, o `violinplot`, entre otros, pueden ser útiles.\n",
    "* Utilizar el método `groupby` de `pandas`, en conjunto con métodos de visualización, puede proveer evidencia del impacto de las variables sociodemográficas de interés sobre el desempeño de los estudiantes en la prueba."
   ]
  },
  {
   "cell_type": "markdown",
   "metadata": {
    "nbgrader": {
     "grade": false,
     "grade_id": "cell-015824b401dc270e3",
     "locked": true,
     "schema_version": 3,
     "solution": false,
     "task": false
    }
   },
   "source": [
    "Preguntas guía:\n",
    "\n",
    "* ¿Hay patrones de interés en las distribuciones de las variables o en las relaciones entre ellas?\n",
    "* ¿Consideras que existe algún impacto significativo de variables sociodemográficas en los puntajes globales o por área?\n",
    "* ¿Sobre cuáles variables harías un análisis más profundo?"
   ]
  },
  {
   "cell_type": "code",
   "execution_count": null,
   "metadata": {
    "nbgrader": {
     "grade": true,
     "grade_id": "cell-e13f54c7af1552c9",
     "locked": false,
     "points": 20,
     "schema_version": 3,
     "solution": true,
     "task": false
    }
   },
   "outputs": [
    {
     "data": {
      "image/png": "[encoded data removed]",
      "text/plain": [
       "<Figure size 1000x800 with 2 Axes>"
      ]
     },
     "metadata": {},
     "output_type": "display_data"
    }
   ],
   "source": [
    "# Implementa tu respuesta en esta celda\n",
    "import pandas as pd\n",
    "import matplotlib.pyplot as plt\n",
    "import seaborn as sns\n",
    "\n",
    "\n",
    "calendario_a = pd.read_csv(\"Examen_Saber_11_20221.csv\", sep=\";\", low_memory=False)\n",
    "calendario_b = pd.read_csv(\"Examen_Saber_11_20222 (1).txt\", sep=\";\", low_memory=False)\n",
    "\n",
    "\n",
    "columnas_comunes = calendario_a.columns.intersection(calendario_b.columns)\n",
    "datos = pd.concat([calendario_a[columnas_comunes], calendario_b[columnas_comunes]], ignore_index=True)\n",
    "\n",
    "\n",
    "columnas_target = [\n",
    "    \"periodo\", \"estu_genero\", \"estu_nacionalidad\", \"punt_global\",\n",
    "    \"fami_estratovivienda\", \"cole_area_ubicacion\",\n",
    "    \"punt_lectura_critica\", \"punt_matematicas\",\n",
    "    \"punt_sociales_ciudadanas\", \"punt_c_naturales\", \"punt_ingles\"\n",
    "]\n",
    "\n",
    "datos_filtrado = datos[columnas_target].copy()\n",
    "\n",
    "\n",
    "for col in datos_filtrado.columns:\n",
    "    if datos_filtrado[col].dtype == 'object':\n",
    "        datos_filtrado[col] = datos_filtrado[col].fillna('Sin dato')\n",
    "    else:\n",
    "        datos_filtrado[col] = pd.to_numeric(datos_filtrado[col], errors='coerce')\n",
    "        datos_filtrado[col] = datos_filtrado[col].fillna(datos_filtrado[col].median())\n",
    "\n",
    "\n",
    "columnas_correlacion = [\n",
    "    \"punt_global\", \"punt_lectura_critica\", \"punt_matematicas\",\n",
    "    \"punt_sociales_ciudadanas\", \"punt_c_naturales\", \"punt_ingles\"\n",
    "]\n",
    "\n",
    "datos_correlacion = datos_filtrado[columnas_correlacion]\n",
    "matriz_correlacion = datos_correlacion.corr()\n",
    "\n",
    "plt.figure(figsize=(10, 8))\n",
    "sns.heatmap(matriz_correlacion, annot=True, cmap=\"coolwarm\", fmt=\".2f\")\n",
    "plt.title(\"Matriz de correlación entre áreas y Puntaje Global\")\n",
    "plt.show()\n",
    "\n"
   ]
  },
  {
   "cell_type": "markdown",
   "metadata": {
    "nbgrader": {
     "grade": false,
     "grade_id": "cell-216057b23d3cc36d1",
     "locked": true,
     "schema_version": 3,
     "solution": false,
     "task": false
    }
   },
   "source": [
    "## Fase 3: abordar relación variables-desempeño a través de un modelo"
   ]
  },
  {
   "cell_type": "markdown",
   "metadata": {
    "nbgrader": {
     "grade": false,
     "grade_id": "cell-216057b23d3cc36d2",
     "locked": true,
     "schema_version": 3,
     "solution": false,
     "task": false
    }
   },
   "source": [
    "En esta fase propondrás, implementarás y reportarás el desempeño de uno o más modelos (al menos uno predictivo) que busquen explicar las relaciones entre factores sociodemográficos y el desempeño en la prueba. Además, concluirás con respecto a la validez de al menos un modelo y los posibles hallazgos que se podrían reportar para el *stakeholder*."
   ]
  },
  {
   "cell_type": "markdown",
   "metadata": {
    "nbgrader": {
     "grade": false,
     "grade_id": "cell-216057b23d3cc36d3",
     "locked": true,
     "schema_version": 3,
     "solution": false,
     "task": false
    }
   },
   "source": [
    "Pautas generales:\n",
    "\n",
    "* Seleccionar variables y proponer modelos acordes a estas y al contexto del problema.\n",
    "* Utilizar librerías especializadas (ej., `statsmodels`, `sklearn`, etc.) para indagar sobre los aspectos que contribuyen al éxito de los estudiantes. Los módulos correspondientes a regresión lineal y regresión logística pueden ser útiles.\n",
    "* Asegurar el cumplimiento de los supuestos y buenas prácticas de cada modelo.\n",
    "* Utilizar las métricas de evaluación de desempeño (disponibles en las librerías especilizadas), para concluir sobre la validez de los modelos propuestos."
   ]
  },
  {
   "cell_type": "markdown",
   "metadata": {
    "nbgrader": {
     "grade": false,
     "grade_id": "cell-216057b23d3cc36d4",
     "locked": true,
     "schema_version": 3,
     "solution": false,
     "task": false
    }
   },
   "source": [
    "Preguntas guía:\n",
    "\n",
    "* ¿Existe algún sub-conjunto de variables socio-demográficas que explique razonablemente bien el desempeño de los estudiantes en la prueba?"
   ]
  },
  {
   "cell_type": "code",
   "execution_count": null,
   "metadata": {
    "collapsed": true,
    "nbgrader": {
     "grade": true,
     "grade_id": "cell-94b22dd2cafa56a2",
     "locked": false,
     "points": 30,
     "schema_version": 3,
     "solution": true,
     "task": false
    }
   },
   "outputs": [
    {
     "data": {
      "image/png": "[encoded data removed]",
      "text/plain": [
       "<Figure size 1000x800 with 2 Axes>"
      ]
     },
     "metadata": {},
     "output_type": "display_data"
    }
   ],
   "source": [
    "import pandas as pd\n",
    "import matplotlib.pyplot as plt\n",
    "import seaborn as sns\n",
    "\n",
    "\n",
    "calendario_a = pd.read_csv(\"Examen_Saber_11_20221.csv\", sep=\";\", low_memory=False)\n",
    "calendario_b = pd.read_csv(\"Examen_Saber_11_20222 (1).txt\", sep=\";\", low_memory=False)\n",
    "\n",
    "\n",
    "\n",
    "columnas_comunes = calendario_a.columns.intersection(calendario_b.columns)\n",
    "datos = pd.concat([calendario_a[columnas_comunes], calendario_b[columnas_comunes]], ignore_index=True)\n",
    "\n",
    "\n",
    "columnas_target = [\n",
    "    \"periodo\", \"estu_genero\", \"estu_nacionalidad\", \"punt_global\",\n",
    "    \"fami_estratovivienda\", \"cole_area_ubicacion\",\n",
    "    \"punt_lectura_critica\", \"punt_matematicas\",\n",
    "    \"punt_sociales_ciudadanas\", \"punt_c_naturales\", \"punt_ingles\"\n",
    "]\n",
    "\n",
    "datos_filtrado = datos[columnas_target].copy()\n",
    "\n",
    "\n",
    "for col in datos_filtrado.columns:\n",
    "    if datos_filtrado[col].dtype == 'object':\n",
    "        datos_filtrado[col] = datos_filtrado[col].fillna('Sin dato')\n",
    "    else:\n",
    "        datos_filtrado[col] = pd.to_numeric(datos_filtrado[col], errors='coerce')\n",
    "        datos_filtrado[col] = datos_filtrado[col].fillna(datos_filtrado[col].median())\n",
    "\n",
    "\n",
    "columnas_correlacion = [\n",
    "    \"punt_global\", \"punt_lectura_critica\", \"punt_matematicas\",\n",
    "    \"punt_sociales_ciudadanas\", \"punt_c_naturales\", \"punt_ingles\"\n",
    "]\n",
    "\n",
    "datos_correlacion = datos_filtrado[columnas_correlacion]\n",
    "matriz_correlacion = datos_correlacion.corr()\n",
    "\n",
    "plt.figure(figsize=(10, 8))\n",
    "sns.heatmap(matriz_correlacion, annot=True, cmap=\"coolwarm\", fmt=\".2f\")\n",
    "plt.title(\"Matriz de correlación entre áreas y Puntaje Global\")\n",
    "plt.show()\n"
   ]
  },
  {
   "cell_type": "markdown",
   "metadata": {
    "nbgrader": {
     "grade": false,
     "grade_id": "cell-48c276616fb862c5",
     "locked": true,
     "schema_version": 3,
     "solution": false,
     "task": false
    }
   },
   "source": [
    "## Fase 4"
   ]
  },
  {
   "cell_type": "markdown",
   "metadata": {
    "nbgrader": {
     "grade": false,
     "grade_id": "cell-eb30850cd7109d78",
     "locked": true,
     "schema_version": 3,
     "solution": false,
     "task": false
    }
   },
   "source": [
    "Deberás elegir y realizar una de las dos alternativas que se encuentran a continuación."
   ]
  },
  {
   "cell_type": "markdown",
   "metadata": {
    "nbgrader": {
     "grade": false,
     "grade_id": "cell-378e2b071d246af8",
     "locked": true,
     "schema_version": 3,
     "solution": false,
     "task": false
    }
   },
   "source": [
    "### Alternativa 1: desarrollar una herramienta interactiva de análisis"
   ]
  },
  {
   "cell_type": "markdown",
   "metadata": {
    "nbgrader": {
     "grade": false,
     "grade_id": "cell-378e2b071d246af9",
     "locked": true,
     "schema_version": 3,
     "solution": false,
     "task": false
    }
   },
   "source": [
    "En esta fase desarrollarás, a partir de alguno de los análisis realizados, una herramienta interactiva que sea relevante en el contexto del problema, acompañada de las instrucciones necesarias para que un usuario la pueda utilizar."
   ]
  },
  {
   "cell_type": "markdown",
   "metadata": {
    "nbgrader": {
     "grade": false,
     "grade_id": "cell-378e2b071d246af10",
     "locked": true,
     "schema_version": 3,
     "solution": false,
     "task": false
    }
   },
   "source": [
    "Pautas generales:\n",
    "\n",
    "* Seleccionar uno de los análisis previos que pueda verse enriquecido con alguna característica de interactividad.\n",
    "* Seleccionar el/los parámetro(s) que el usuario podrá cambiar.\n",
    "* Desarrollar las funciones que se deben ejecutar con cada acción del usuario.\n",
    "* Utilizar una librería especializada (ej., `ipywidgets`, `panel`, etc.) para implementar la herramienta."
   ]
  },
  {
   "cell_type": "markdown",
   "metadata": {
    "nbgrader": {
     "grade": false,
     "grade_id": "cell-378e2b071d246af11",
     "locked": true,
     "schema_version": 3,
     "solution": false,
     "task": false
    }
   },
   "source": [
    "Preguntas guía:\n",
    "\n",
    "* ¿Cuál o cuáles preguntas podrá hacerle el usuario a la herramienta y cómo aporta la respuesta al análisis?\n",
    "* ¿Qué aprendizajes clave puede explorar u obtener el usuario con esta herramienta?"
   ]
  },
  {
   "cell_type": "code",
   "execution_count": null,
   "metadata": {
    "nbgrader": {
     "grade": true,
     "grade_id": "cell-6b287262b7ce28bb",
     "locked": false,
     "points": 30,
     "schema_version": 3,
     "solution": true,
     "task": false
    }
   },
   "outputs": [],
   "source": [
    "# Implementa tu respuesta en esta celda}\n"
   ]
  },
  {
   "cell_type": "markdown",
   "metadata": {
    "nbgrader": {
     "grade": false,
     "grade_id": "cell-c8a33682f37a6fa7",
     "locked": true,
     "schema_version": 3,
     "solution": false,
     "task": false
    }
   },
   "source": [
    "### Alternativa 2: registrar en bases de datos relacionales con PySpark"
   ]
  },
  {
   "cell_type": "markdown",
   "metadata": {
    "nbgrader": {
     "grade": false,
     "grade_id": "cell-c8a33682f37a6fa8",
     "locked": true,
     "schema_version": 3,
     "solution": false,
     "task": false
    }
   },
   "source": [
    "En esta fase desarrollarás, a partir de alguno de los análisis realizados, un _script_ que sea relevante en el contexto del problema, acompañado de las instrucciones necesarias para que un usuario lo pueda ejecutar."
   ]
  },
  {
   "cell_type": "markdown",
   "metadata": {
    "nbgrader": {
     "grade": false,
     "grade_id": "cell-c8a33682f37a6fa9",
     "locked": true,
     "schema_version": 3,
     "solution": false,
     "task": false
    }
   },
   "source": [
    "Pautas generales:\n",
    "\n",
    "* Cargar en una base de datos relacional (tipo SQL) el segmento de los datos sobre el cual profundizaste en tu anális, utilizando una tabla distinta para cada categoría de campos. Por ejemplo, una categoría puedes ser información del colegio; en cuyo caso, una tabla debería contener un registro único para cada colegio y todos los campos asociados.\n",
    "\n",
    "* Los campos, a excepción de los identificadores, deben existir en un única tabla.\n",
    "\n",
    "* Cada registro debe existir una única vez en su respectiva tabla.\n",
    "\n",
    "* Cada registro debe tener un identificador único en su tabla, el cual establece una relación entre tablas.\n",
    "\n",
    "* Seleccionar uno de los modelos predictivos implementados.\n",
    "\n",
    "* Crear en la base de datos relacional una tabla que contenga únicamente los identificadores del registro y la predicción de la variable de respuesta hecha por el modelo.\n",
    "\n",
    "* Desarrollar _queries_ de SQL según las siguientes indicaciones y concluir acerca de los resultados:\n",
    "    * Un _query_ que seleccione todos registros y los agregue en una única tabla. Para esto debes relacionar las tablas por su identificador, utilizando el método `JOIN`.\n",
    "    * Un _query_ que contenga el puntaje promedio de los estudiantes, agrupado por año y por colegio.\n",
    "    * Distintos _queries_ que calculen medidas de error de predicción del modelo a partir de los datos reales y las predicciones respectivas. Debes reportar el error para cada registro, el error total de los registros de entrenamiento y el error total de los registros de prueba.\n",
    "    * Haz dos _queries_ adicionales que resulten interesantes."
   ]
  },
  {
   "cell_type": "markdown",
   "metadata": {
    "nbgrader": {
     "grade": false,
     "grade_id": "cell-c8a33682f37a6fa10",
     "locked": true,
     "schema_version": 3,
     "solution": false,
     "task": false
    }
   },
   "source": [
    "Preguntas guía:\n",
    "\n",
    "* ¿Cómo aporta la segmentación de los datos en categorías de campos al manejo de los datos?\n",
    "* ¿Qué filtros y agrupaciones podemos aplicar sobre los datos con el fin de obtener información relevante?"
   ]
  },
  {
   "cell_type": "code",
   "execution_count": null,
   "metadata": {
    "nbgrader": {
     "grade": true,
     "grade_id": "cell-29052f96082e3438",
     "locked": false,
     "points": 0,
     "schema_version": 3,
     "solution": true,
     "task": false
    }
   },
   "outputs": [],
   "source": [
    "# Implementa tu respuesta en esta celda\n"
   ]
  },
  {
   "cell_type": "markdown",
   "metadata": {
    "nbgrader": {
     "grade": false,
     "grade_id": "cell-32cfb4282f725e3c",
     "locked": true,
     "schema_version": 3,
     "solution": false,
     "task": false
    }
   },
   "source": [
    "## Referencias"
   ]
  },
  {
   "cell_type": "markdown",
   "metadata": {
    "nbgrader": {
     "grade": false,
     "grade_id": "cell-32cfb4282f725e3c1",
     "locked": true,
     "schema_version": 3,
     "solution": false,
     "task": false
    }
   },
   "source": [
    "*  J. VanderPlas (2016) *Python Data Science Handbook: Essential Tools for Working with Data* O'Reilly Media, Inc.\n",
    "*  scikit-learn developers . (2020). Demo of DBSCAN clustering algorithm. 11 Diciembre 2020, de scikit-learn <br> https://scikit-learn.org/stable/auto_examples/cluster/plot_dbscan.html#sphx-glr-auto-examples-cluster-plot-dbscan-py"
   ]
  },
  {
   "cell_type": "markdown",
   "metadata": {
    "nbgrader": {
     "grade": false,
     "grade_id": "cell-32cfb4282f725e3c2",
     "locked": true,
     "schema_version": 3,
     "solution": false,
     "task": false
    }
   },
   "source": [
    "## Créditos"
   ]
  },
  {
   "cell_type": "markdown",
   "metadata": {
    "nbgrader": {
     "grade": false,
     "grade_id": "cell-32cfb4282f725e3c3",
     "locked": true,
     "schema_version": 3,
     "solution": false,
     "task": false
    }
   },
   "source": [
    "__Autores__: Camilo Hernando Gómez Castro, Alejandro Mantilla Redondo, Jose Fernando Barrera de Plaza, Diego Alejandro Cely Gómez.\n",
    "\n",
    "__Fecha última actualización__: 29/09/2022"
   ]
  }
 ],
 "metadata": {
  "celltoolbar": "Create Assignment",
  "kernelspec": {
   "display_name": "Python 3",
   "language": "python",
   "name": "python3"
  },
  "language_info": {
   "codemirror_mode": {
    "name": "ipython",
    "version": 3
   },
   "file_extension": ".py",
   "mimetype": "text/x-python",
   "name": "python",
   "nbconvert_exporter": "python",
   "pygments_lexer": "ipython3",
   "version": "3.10.11"
  }
 },
 "nbformat": 4,
 "nbformat_minor": 2
}
